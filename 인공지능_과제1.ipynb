{
  "nbformat": 4,
  "nbformat_minor": 0,
  "metadata": {
    "colab": {
      "name": "인공지능 과제1.ipynb",
      "provenance": [],
      "collapsed_sections": [],
      "authorship_tag": "ABX9TyOlrjY1sc7vJmsrZBDneA93",
      "include_colab_link": true
    },
    "kernelspec": {
      "name": "python3",
      "display_name": "Python 3"
    }
  },
  "cells": [
    {
      "cell_type": "markdown",
      "metadata": {
        "id": "view-in-github",
        "colab_type": "text"
      },
      "source": [
        "<a href=\"https://colab.research.google.com/github/Speril/AIhomework1/blob/master/%EC%9D%B8%EA%B3%B5%EC%A7%80%EB%8A%A5_%EA%B3%BC%EC%A0%9C1.ipynb\" target=\"_parent\"><img src=\"https://colab.research.google.com/assets/colab-badge.svg\" alt=\"Open In Colab\"/></a>"
      ]
    },
    {
      "cell_type": "code",
      "metadata": {
        "id": "8T9xLIFxwg0l",
        "colab_type": "code",
        "colab": {}
      },
      "source": [
        ""
      ],
      "execution_count": null,
      "outputs": []
    },
    {
      "cell_type": "markdown",
      "metadata": {
        "id": "LrmWVZ6Qmr6v",
        "colab_type": "text"
      },
      "source": [
        ""
      ]
    },
    {
      "cell_type": "markdown",
      "metadata": {
        "id": "-SUutA3owziC",
        "colab_type": "text"
      },
      "source": [
        "# [1주차 과제]\n",
        "## 인공지능 응용 사례\n",
        "### 언어:\n",
        "##### 구글 번역기는 '신경망 번역(Neural Machine Translation)'이란 인공지능 핵심 기술인 '머신 러닝'을 활용한 번역 서비스이다. 이를 통해 번역 인공지능이 문장 전체의 흐름을 인식하고 문장 속 작성자의 의도를 이해해서 번역을 진행한다. 기존 번역은 단어나 어구를 먼저 번역하고 퍼즐 맞추듯 조립했기에 문장 구조가 어색했지만 신경망 번역을 통해 '어구 기반 기계 번역'의 한계를 뛰어넘은 것이다.\n",
        "[인공지능과 구글 번역의 만남](https://it.donga.com/25531/)\n",
        "\n",
        "### 음성:\n",
        "##### '인공지능 스피커'는 쉽게 말하면 인간의 말을 알아듣고 그에 맞춰 반응하는 것이다. 인공지능 스피커가 음성을 인식하는 과정은 다음과 같다.(아마존 AI 알렉사) 인간의 목서리가 마이크로 입력되면 '스피치 프로세서'가 음성 신호를 벡터로 변환시키고 벡터는 '스피치 인식기'와 '언어 특징 추출기'를 통해 '언어 표현 정보'로 추출된다. 추출된 언어 표현 정보는 '스킬 분류기' 와 '의도 분류기' 및 '슬롯 인지기' 과정을 마치고 '스킬 프로세서'를 거쳐 명령 수행을 위한 관련 기기를 동작시키게 된다. 입력된 언어를 제대로 이해하기 위해 알렉사의 의도 분류기는 입력 데이터를 기반으로 학습이 가능하다. *'인공 뉴럴 네트워크'와 '딥 뉴럴 네트워크'\n",
        "[아마존 AI 알렉사는 어떻게 인간의 언어를 이해할까](http://clomag.co.kr/article/3103)\n",
        "\n",
        "### 이미지:\n",
        "##### 'AI 이미지 분석 기술' 핵심은 노이즈(Noise) 판별력과 인공신경망을 이용한 이미지 특징 포착과 추상화이다. 사람과 달리 AI는 각각의 데이터(픽셀)로 이미지 분석하기 때문에 노이즈가 이미지에 삽입되면 이전과 동일한 사진이지만 다르게 인식하게 되는 경우가 있다.\n",
        "\n",
        "### 자율주행: \n",
        "##### '구글 무인 자동차' GPS를 통해 현재 위치와 목적지를 끊임없이 비교하며 레어더, 카메라, 레이저 스캐너가 사물을 탐지하고 충돌을 방지한다. 수집된 데이터들은 구글 컴퓨터가 분석, 해석해 최종 의사결정을 내리는 기술로 이루어져 있다.\n",
        "\n"
      ]
    }
  ]
}